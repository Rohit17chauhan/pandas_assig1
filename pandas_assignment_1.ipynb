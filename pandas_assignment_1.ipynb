{
 "cells": [
  {
   "cell_type": "code",
   "execution_count": 1,
   "id": "da4bad3a-5ff4-44b4-b05b-7c2f51317c88",
   "metadata": {},
   "outputs": [
    {
     "data": {
      "text/plain": [
       "'Q1. Create a Pandas Series that contains the following data: 4, 8, 15, 16, 23, and 42. Then, print the series.'"
      ]
     },
     "execution_count": 1,
     "metadata": {},
     "output_type": "execute_result"
    }
   ],
   "source": [
    "\"\"\"Q1. Create a Pandas Series that contains the following data: 4, 8, 15, 16, 23, and 42. Then, print the series.\"\"\""
   ]
  },
  {
   "cell_type": "code",
   "execution_count": 2,
   "id": "d54fea5c-8b8d-4503-84c8-573ad0dac325",
   "metadata": {},
   "outputs": [],
   "source": [
    "import pandas as pd"
   ]
  },
  {
   "cell_type": "code",
   "execution_count": 5,
   "id": "73f5201b-5623-46e4-88c3-71c06d7661f0",
   "metadata": {},
   "outputs": [
    {
     "name": "stdout",
     "output_type": "stream",
     "text": [
      "0     4\n",
      "1     8\n",
      "2    15\n",
      "3    16\n",
      "4    23\n",
      "5    42\n",
      "dtype: int64\n"
     ]
    }
   ],
   "source": [
    "data=[4,8,15,16,23,42]\n",
    "data1=pd.Series(data)\n",
    "print(data1)\n"
   ]
  },
  {
   "cell_type": "code",
   "execution_count": 6,
   "id": "b58de7fa-3d35-4d98-8f75-fb8d59d79d1b",
   "metadata": {},
   "outputs": [
    {
     "data": {
      "text/plain": [
       "'Q2. Create a variable of list type containing 10 elements in it, and apply pandas.Series function on the variable print it.'"
      ]
     },
     "execution_count": 6,
     "metadata": {},
     "output_type": "execute_result"
    }
   ],
   "source": [
    "\"\"\"Q2. Create a variable of list type containing 10 elements in it, and apply pandas.Series function on the variable print it.\"\"\""
   ]
  },
  {
   "cell_type": "code",
   "execution_count": 8,
   "id": "1bbc2276-f9c9-4b8a-ad09-61918bef2f4f",
   "metadata": {},
   "outputs": [
    {
     "name": "stdout",
     "output_type": "stream",
     "text": [
      "0    0\n",
      "1    1\n",
      "2    2\n",
      "3    3\n",
      "4    4\n",
      "5    5\n",
      "6    6\n",
      "7    7\n",
      "8    8\n",
      "9    9\n",
      "dtype: int64\n"
     ]
    }
   ],
   "source": [
    "import pandas as pd \n",
    "l=[0,1,2,3,4,5,6,7,8,9]\n",
    "data=pd.Series(l)\n",
    "print(data)"
   ]
  },
  {
   "cell_type": "code",
   "execution_count": 9,
   "id": "7bcc3dd6-6bdb-4a64-934f-7a80f9224790",
   "metadata": {},
   "outputs": [
    {
     "data": {
      "text/plain": [
       "'Q3. Create a Pandas DataFrame that contains the following data: Then, print the DataFrame.'"
      ]
     },
     "execution_count": 9,
     "metadata": {},
     "output_type": "execute_result"
    }
   ],
   "source": [
    "\"\"\"Q3. Create a Pandas DataFrame that contains the following data: Then, print the DataFrame.\"\"\""
   ]
  },
  {
   "cell_type": "code",
   "execution_count": 14,
   "id": "94873bcb-3e80-4d37-9930-6c7ff19fbda7",
   "metadata": {},
   "outputs": [
    {
     "name": "stdout",
     "output_type": "stream",
     "text": [
      "     Name  Age  Gender\n",
      "0   Alice   25  Female\n",
      "1     Bob   30    Male\n",
      "2  Claire   27  Female\n"
     ]
    }
   ],
   "source": [
    "import pandas as pd \n",
    "data={\"Name\":['Alice','Bob','Claire'],\n",
    "       \"Age\":[25,30,27],\n",
    "       \"Gender\":['Female','Male','Female'],\n",
    "      }\n",
    "     \n",
    "data1=pd.DataFrame(data)\n",
    "print(data1)\n",
    "       "
   ]
  },
  {
   "cell_type": "code",
   "execution_count": 17,
   "id": "81ab094d-1df2-4766-8cef-cba33cb8a9a6",
   "metadata": {},
   "outputs": [
    {
     "data": {
      "text/plain": [
       "'Q4. What is ‘DataFrame’ in pandas and how is it different from pandas.series? Explain with an example.'"
      ]
     },
     "execution_count": 17,
     "metadata": {},
     "output_type": "execute_result"
    }
   ],
   "source": [
    "\"\"\"Q4. What is ‘DataFrame’ in pandas and how is it different from pandas.series? Explain with an example.\"\"\""
   ]
  },
  {
   "cell_type": "code",
   "execution_count": 18,
   "id": "b828922f-e037-4fe3-b693-24ab62a52e73",
   "metadata": {},
   "outputs": [
    {
     "data": {
      "text/plain": [
       "'data frame are written in double square bracket ([[   ]]) , where series are written in single square bracket ([[  ]])'"
      ]
     },
     "execution_count": 18,
     "metadata": {},
     "output_type": "execute_result"
    }
   ],
   "source": [
    "\"data frame are written in double square bracket ([[   ]]) , where series are written in single square bracket ([[  ]])\""
   ]
  },
  {
   "cell_type": "code",
   "execution_count": null,
   "id": "e63d5b97-9404-4715-9658-aeac2980cdcd",
   "metadata": {},
   "outputs": [
    {
     "data": {
      "text/plain": [
       "'Q5. What are some common functions you can use to manipulate data in a Pandas DataFrame? Can you give an example of when you might use one of these functions?'"
      ]
     },
     "execution_count": 19,
     "metadata": {},
     "output_type": "execute_result"
    }
   ],
   "source": [
    "\"\"\"Q5. What are some common functions you can use to manipulate data in a Pandas DataFrame? Can you give an example of when you might use one of these functions?\"\"\""
   ]
  },
  {
   "cell_type": "code",
   "execution_count": 20,
   "id": "00b5483f-75eb-457a-9102-32b31c6950c6",
   "metadata": {},
   "outputs": [
    {
     "data": {
      "text/plain": [
       "'Selected column,changing data type,creating new column'"
      ]
     },
     "execution_count": 20,
     "metadata": {},
     "output_type": "execute_result"
    }
   ],
   "source": [
    "\"Selected column,changing data type,creating new column\""
   ]
  },
  {
   "cell_type": "code",
   "execution_count": 21,
   "id": "08154ee9-c918-4cbe-8317-e59d833e8542",
   "metadata": {},
   "outputs": [
    {
     "ename": "NameError",
     "evalue": "name 'df' is not defined",
     "output_type": "error",
     "traceback": [
      "\u001b[0;31m---------------------------------------------------------------------------\u001b[0m",
      "\u001b[0;31mNameError\u001b[0m                                 Traceback (most recent call last)",
      "Cell \u001b[0;32mIn[21], line 1\u001b[0m\n\u001b[0;32m----> 1\u001b[0m select_column\u001b[38;5;241m=\u001b[39m\u001b[43mdf\u001b[49m[\u001b[38;5;124m'\u001b[39m\u001b[38;5;124mname\u001b[39m\u001b[38;5;124m'\u001b[39m,\u001b[38;5;124m'\u001b[39m\u001b[38;5;124mage\u001b[39m\u001b[38;5;124m'\u001b[39m]\n",
      "\u001b[0;31mNameError\u001b[0m: name 'df' is not defined"
     ]
    }
   ],
   "source": [
    "select_column=df[['name','age']]\n",
    " \n",
    "    \n",
    "# it's give an error because df is not define "
   ]
  },
  {
   "cell_type": "code",
   "execution_count": 22,
   "id": "aec31073-1ab8-4b97-ad7e-c9bd920a66a8",
   "metadata": {},
   "outputs": [
    {
     "data": {
      "text/plain": [
       "'Q6. Which of the following is mutable in nature Series, DataFrame, Panel?'"
      ]
     },
     "execution_count": 22,
     "metadata": {},
     "output_type": "execute_result"
    }
   ],
   "source": [
    "\"\"\"Q6. Which of the following is mutable in nature Series, DataFrame, Panel?\"\"\""
   ]
  },
  {
   "cell_type": "code",
   "execution_count": 23,
   "id": "d0a2798c-5a95-42b4-b18d-88beabeb6437",
   "metadata": {},
   "outputs": [
    {
     "data": {
      "text/plain": [
       "'series and Dataframe'"
      ]
     },
     "execution_count": 23,
     "metadata": {},
     "output_type": "execute_result"
    }
   ],
   "source": [
    "\"series and Dataframe\""
   ]
  },
  {
   "cell_type": "code",
   "execution_count": 24,
   "id": "0edf4f33-cbd8-4202-8e55-c1cc9b80c798",
   "metadata": {},
   "outputs": [
    {
     "data": {
      "text/plain": [
       "'Q7. Create a DataFrame using multiple Series. Explain with an example.'"
      ]
     },
     "execution_count": 24,
     "metadata": {},
     "output_type": "execute_result"
    }
   ],
   "source": [
    "\"\"\"Q7. Create a DataFrame using multiple Series. Explain with an example.\"\"\""
   ]
  },
  {
   "cell_type": "code",
   "execution_count": null,
   "id": "cf5d1695-943a-46a4-897b-9c86a5142a87",
   "metadata": {},
   "outputs": [],
   "source": [
    "import pandas as pd\n",
    "\n",
    "name=pd.Series(['ROHIT','RAHUL','VIJAY']),\n",
    "age=pd.Series([20,23,25])\n",
    "data={'name':name,\n",
    "      'age':age,}\n",
    "df"
   ]
  }
 ],
 "metadata": {
  "kernelspec": {
   "display_name": "Python 3 (ipykernel)",
   "language": "python",
   "name": "python3"
  },
  "language_info": {
   "codemirror_mode": {
    "name": "ipython",
    "version": 3
   },
   "file_extension": ".py",
   "mimetype": "text/x-python",
   "name": "python",
   "nbconvert_exporter": "python",
   "pygments_lexer": "ipython3",
   "version": "3.10.8"
  }
 },
 "nbformat": 4,
 "nbformat_minor": 5
}
